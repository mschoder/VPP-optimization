{
 "cells": [
  {
   "cell_type": "code",
   "execution_count": 204,
   "metadata": {},
   "outputs": [],
   "source": [
    "%reload_ext autoreload\n",
    "%autoreload 2\n",
    "\n",
    "from data_inputs import *\n",
    "from sim_data import *\n",
    "from models import *\n",
    "import settings\n",
    "\n",
    "import pandas as pd\n",
    "import numpy as np\n",
    "import matplotlib.pyplot as plt"
   ]
  },
  {
   "cell_type": "markdown",
   "metadata": {},
   "source": [
    "### Static Model Optimization"
   ]
  },
  {
   "cell_type": "code",
   "execution_count": 205,
   "metadata": {},
   "outputs": [
    {
     "data": {
      "text/html": [
       "<div>\n",
       "<style scoped>\n",
       "    .dataframe tbody tr th:only-of-type {\n",
       "        vertical-align: middle;\n",
       "    }\n",
       "\n",
       "    .dataframe tbody tr th {\n",
       "        vertical-align: top;\n",
       "    }\n",
       "\n",
       "    .dataframe thead th {\n",
       "        text-align: right;\n",
       "    }\n",
       "</style>\n",
       "<table border=\"1\" class=\"dataframe\">\n",
       "  <thead>\n",
       "    <tr style=\"text-align: right;\">\n",
       "      <th></th>\n",
       "      <th>hour</th>\n",
       "      <th>batt_flow</th>\n",
       "      <th>batt_energy</th>\n",
       "      <th>turb_on</th>\n",
       "      <th>turb_start</th>\n",
       "      <th>turb_gen</th>\n",
       "      <th>solar_gen</th>\n",
       "      <th>wind_gen</th>\n",
       "      <th>net_gen</th>\n",
       "      <th>net_out</th>\n",
       "      <th>elect_price</th>\n",
       "      <th>hourly_profit</th>\n",
       "    </tr>\n",
       "  </thead>\n",
       "  <tbody>\n",
       "    <tr>\n",
       "      <th>0</th>\n",
       "      <td>0</td>\n",
       "      <td>40.00</td>\n",
       "      <td>120.00</td>\n",
       "      <td>0</td>\n",
       "      <td>0</td>\n",
       "      <td>0</td>\n",
       "      <td>0.0</td>\n",
       "      <td>6.55</td>\n",
       "      <td>6.55</td>\n",
       "      <td>46.55</td>\n",
       "      <td>32.48</td>\n",
       "      <td>1511.944</td>\n",
       "    </tr>\n",
       "    <tr>\n",
       "      <th>1</th>\n",
       "      <td>1</td>\n",
       "      <td>3.24</td>\n",
       "      <td>123.04</td>\n",
       "      <td>0</td>\n",
       "      <td>0</td>\n",
       "      <td>0</td>\n",
       "      <td>0.0</td>\n",
       "      <td>8.76</td>\n",
       "      <td>8.76</td>\n",
       "      <td>12.00</td>\n",
       "      <td>32.40</td>\n",
       "      <td>388.800</td>\n",
       "    </tr>\n",
       "    <tr>\n",
       "      <th>2</th>\n",
       "      <td>2</td>\n",
       "      <td>3.24</td>\n",
       "      <td>126.08</td>\n",
       "      <td>0</td>\n",
       "      <td>0</td>\n",
       "      <td>0</td>\n",
       "      <td>0.0</td>\n",
       "      <td>8.76</td>\n",
       "      <td>8.76</td>\n",
       "      <td>12.00</td>\n",
       "      <td>32.14</td>\n",
       "      <td>385.680</td>\n",
       "    </tr>\n",
       "    <tr>\n",
       "      <th>3</th>\n",
       "      <td>3</td>\n",
       "      <td>6.19</td>\n",
       "      <td>131.89</td>\n",
       "      <td>0</td>\n",
       "      <td>0</td>\n",
       "      <td>0</td>\n",
       "      <td>0.0</td>\n",
       "      <td>5.81</td>\n",
       "      <td>5.81</td>\n",
       "      <td>12.00</td>\n",
       "      <td>32.08</td>\n",
       "      <td>384.960</td>\n",
       "    </tr>\n",
       "    <tr>\n",
       "      <th>4</th>\n",
       "      <td>4</td>\n",
       "      <td>8.40</td>\n",
       "      <td>139.77</td>\n",
       "      <td>0</td>\n",
       "      <td>0</td>\n",
       "      <td>0</td>\n",
       "      <td>0.0</td>\n",
       "      <td>3.60</td>\n",
       "      <td>3.60</td>\n",
       "      <td>12.00</td>\n",
       "      <td>31.18</td>\n",
       "      <td>374.160</td>\n",
       "    </tr>\n",
       "  </tbody>\n",
       "</table>\n",
       "</div>"
      ],
      "text/plain": [
       "   hour  batt_flow  batt_energy  turb_on  turb_start  turb_gen  solar_gen  \\\n",
       "0     0      40.00       120.00        0           0         0        0.0   \n",
       "1     1       3.24       123.04        0           0         0        0.0   \n",
       "2     2       3.24       126.08        0           0         0        0.0   \n",
       "3     3       6.19       131.89        0           0         0        0.0   \n",
       "4     4       8.40       139.77        0           0         0        0.0   \n",
       "\n",
       "   wind_gen  net_gen  net_out  elect_price  hourly_profit  \n",
       "0      6.55     6.55    46.55        32.48       1511.944  \n",
       "1      8.76     8.76    12.00        32.40        388.800  \n",
       "2      8.76     8.76    12.00        32.14        385.680  \n",
       "3      5.81     5.81    12.00        32.08        384.960  \n",
       "4      3.60     3.60    12.00        31.18        374.160  "
      ]
     },
     "execution_count": 205,
     "metadata": {},
     "output_type": "execute_result"
    }
   ],
   "source": [
    "## TODO: modular inputs: batt size, gt startup cost, gt fuel cost, demand min\n",
    "\n",
    "# Static, non-stochastic\n",
    "static_df = get_static_vpp_output()\n",
    "static_df.head()"
   ]
  },
  {
   "cell_type": "code",
   "execution_count": 206,
   "metadata": {},
   "outputs": [
    {
     "data": {
      "text/plain": [
       "120472.61836666673"
      ]
     },
     "execution_count": 206,
     "metadata": {},
     "output_type": "execute_result"
    }
   ],
   "source": [
    "weekly_profit_static = sum(static_df.hourly_profit)\n",
    "weekly_profit_static"
   ]
  },
  {
   "cell_type": "markdown",
   "metadata": {},
   "source": [
    "### Distribution of Stochastic Profits from Static model"
   ]
  },
  {
   "cell_type": "code",
   "execution_count": null,
   "metadata": {},
   "outputs": [],
   "source": [
    "p_sim, w_sim, l_sim, sim_perm = get_sim_data()\n",
    "p,w,l = get_input_data()\n",
    "rev_check = sum(l[t]*(static_df['batt_flow'][t] + p[t] + w[t] + settings.G*static_df['turb_on'][t]) -\\\n",
    "        settings.CG*static_df['turb_on'][t] - settings.S*static_df['turb_start'][t] for t in range(settings.T))\n",
    "print(\"rev check is: \", rev_check)\n",
    "\n",
    "rev_static = []\n",
    "net_gen_static = []\n",
    "for idx, sim in enumerate(sim_perm):\n",
    "    p = p_sim['sim_%d'%sim[0]]\n",
    "    w = w_sim['sim_%d'%sim[1]]\n",
    "    l = l_sim['sim_%d'%sim[2]]\n",
    "    net_gen_static.append([0]*settings.T)\n",
    "    min_gen_check = {}\n",
    "    for t in range(settings.T):\n",
    "        net_gen_static[idx][t] = static_df['batt_flow'][t] + p[t] + w[t] + settings.G*static_df['turb_on'][t]\n",
    "        min_gen_check[t] = (1 if net_gen_static[idx][t] < settings.MIN_GEN else 0)\n",
    "    rev_static.append(sum(l[t]*(static_df['batt_flow'][t] + p[t] + w[t] + settings.G*static_df['turb_on'][t]) -\\\n",
    "            (settings.CG*static_df['turb_on'][t]) - settings.S*static_df['turb_start'][t] -\\\n",
    "            settings.FINE*min_gen_check[t] for t in range(settings.T)))\n",
    "\n",
    "\n",
    "\n",
    "    \n",
    "exp_rev_static = int(sum(rev_static) / len(rev_static))\n",
    "print(\"Expected Revenue for Static Secnario is:\", exp_rev_static)\n",
    "fig, ax = plt.subplots(tight_layout=True)\n",
    "hist = ax.hist(rev_static)\n",
    "hist = ax.set_title('Distribution of Net Weekly Revenue for Static Scenarios')"
   ]
  },
  {
   "cell_type": "code",
   "execution_count": null,
   "metadata": {},
   "outputs": [],
   "source": [
    "min_gen = [settings.MIN_GEN]*settings.T\n",
    "\n",
    "%matplotlib inline\n",
    "plt.figure(figsize=(18, 8), dpi= 80, facecolor='w', edgecolor='k')\n",
    "for idx in range(len(net_gen_static)):\n",
    "    plot_stat = plt.plot(net_gen_static[idx], label=idx)\n",
    "plot_stat = plt.plot(min_gen, label = \"Minimum Allowed Power Generation\")\n",
    "#plt.legend()\n",
    "plt.xlabel('Time (h)')\n",
    "plt.ylabel('Power (MWh)')\n",
    "plt.title('Static Forecast Optimization')"
   ]
  },
  {
   "cell_type": "markdown",
   "metadata": {},
   "source": [
    "Plot above shows that for the static optimization run through the static scenarios, min power generation often drops below min gen. We will need to compare static to stochastic without the batter constraint."
   ]
  },
  {
   "cell_type": "code",
   "execution_count": null,
   "metadata": {},
   "outputs": [],
   "source": [
    "%matplotlib inline\n",
    "plt.figure(figsize=(18, 8), dpi= 80, facecolor='w', edgecolor='k')\n",
    "plot_stat = plt.plot(static_df['batt_flow'], label='battery')\n",
    "plot_stat = plt.plot(static_df['turb_gen'], label='turbine')\n",
    "plot_stat = plt.plot(static_df['solar_gen'], label='solar')\n",
    "plot_stat = plt.plot(static_df['wind_gen'], label='wind')\n",
    "plot_stat = plt.plot(static_df['net_out'], color='m', linewidth=3, label='net output')\n",
    "plot_stat = plt.plot(static_df['net_gen'], color='k', linewidth=3, label='net generation')\n",
    "plt.legend()\n",
    "plt.xlabel('Time (h)')\n",
    "plt.ylabel('Power (MWh)')\n",
    "plt.title('Static Forecast Optimization')"
   ]
  },
  {
   "cell_type": "markdown",
   "metadata": {},
   "source": [
    "### Stochastic Model Optimization"
   ]
  },
  {
   "cell_type": "code",
   "execution_count": null,
   "metadata": {},
   "outputs": [],
   "source": [
    "# Stochastic\n",
    "stoc_df, rev_stoc = get_stochastic_vpp_output()\n",
    "stoc_df.head()"
   ]
  },
  {
   "cell_type": "code",
   "execution_count": null,
   "metadata": {},
   "outputs": [],
   "source": [
    "weekly_profit_stoc = sum(rev_stoc)/(settings.SIMS**3)\n",
    "weekly_profit_stoc"
   ]
  },
  {
   "cell_type": "code",
   "execution_count": null,
   "metadata": {},
   "outputs": [],
   "source": [
    "plt.figure(figsize=(18, 8), dpi= 80, facecolor='w', edgecolor='k')\n",
    "plot_stat = plt.plot(stoc_df['batt_flow'], label='battery')\n",
    "plot_stat = plt.plot(stoc_df['turb_gen'], label='turbine')\n",
    "plot_stat = plt.plot(stoc_df['solar_gen'], label='solar')\n",
    "plot_stat = plt.plot(stoc_df['wind_gen'], label='wind')\n",
    "plot_stat = plt.plot(stoc_df['net_out'], color='m', linewidth=3, label='net output')\n",
    "plot_stat = plt.plot(stoc_df['net_gen'], color='k', linewidth=3, label='net generation')\n",
    "plt.legend()\n",
    "plt.xlabel('Time (h)')\n",
    "plt.ylabel('Power (MWh)')\n",
    "plt.title('Stochastic Forecast Optimization')"
   ]
  },
  {
   "cell_type": "code",
   "execution_count": null,
   "metadata": {},
   "outputs": [],
   "source": [
    "fig, ax = plt.subplots(tight_layout=True)\n",
    "hist = ax.hist(rev_stoc)\n",
    "hist = ax.set_title('Distribution of Net Weekly Revenue for Stochastic Scenarios')"
   ]
  },
  {
   "cell_type": "markdown",
   "metadata": {},
   "source": [
    "### No Battery Static"
   ]
  },
  {
   "cell_type": "code",
   "execution_count": null,
   "metadata": {},
   "outputs": [],
   "source": [
    "nb_static_df = get_static_nb_output()\n",
    "nb_static_df.head()"
   ]
  },
  {
   "cell_type": "code",
   "execution_count": null,
   "metadata": {},
   "outputs": [],
   "source": [
    "weekly_profit_nb = sum(nb_static_df.hourly_profit)\n",
    "weekly_profit_nb"
   ]
  },
  {
   "cell_type": "code",
   "execution_count": null,
   "metadata": {},
   "outputs": [],
   "source": [
    "plt.figure(figsize=(18, 8), dpi= 80, facecolor='w', edgecolor='k')\n",
    "plot_nb = plt.plot(nb_static_df['turb_gen'], label='turbine')\n",
    "plot_nb = plt.plot(nb_static_df['solar_gen'], label='solar')\n",
    "plot_nb = plt.plot(nb_static_df['wind_gen'], label='wind')\n",
    "plot_nb = plt.plot(nb_static_df['net_out'], color='m', linewidth=3, label='net output')\n",
    "plot_nb = plt.plot(nb_static_df['net_gen'], color='k', linewidth=3, label='net generation')\n",
    "plt.legend()\n",
    "plt.xlabel('Time (h)')\n",
    "plt.ylabel('Power (MWh)')\n",
    "plt.title('No Battery, Static Forecast Optimization')"
   ]
  },
  {
   "cell_type": "markdown",
   "metadata": {},
   "source": [
    "### No Battery, Stochastic"
   ]
  },
  {
   "cell_type": "code",
   "execution_count": null,
   "metadata": {},
   "outputs": [],
   "source": [
    "nb_stoc_df = get_stochastic_nb_output()\n",
    "nb_stoc_df.head()"
   ]
  },
  {
   "cell_type": "code",
   "execution_count": null,
   "metadata": {},
   "outputs": [],
   "source": [
    "model,g,s,revenue = optimize_vpp_stochastic_no_battery()"
   ]
  },
  {
   "cell_type": "code",
   "execution_count": null,
   "metadata": {},
   "outputs": [],
   "source": [
    "weekly_profit_nb_stoc = sum(nb_stoc_df.hourly_profit)\n",
    "weekly_profit_nb_stoc"
   ]
  },
  {
   "cell_type": "code",
   "execution_count": null,
   "metadata": {},
   "outputs": [],
   "source": [
    "plt.figure(figsize=(18, 8), dpi= 80, facecolor='w', edgecolor='k')\n",
    "plot_nb = plt.plot(nb_stoc_df['turb_gen'], label='turbine')\n",
    "plot_nb = plt.plot(nb_stoc_df['solar_gen'], label='solar')\n",
    "plot_nb = plt.plot(nb_stoc_df['wind_gen'], label='wind')\n",
    "plot_nb = plt.plot(nb_stoc_df['net_out'], color='m', linewidth=3, label='net output')\n",
    "plot_nb = plt.plot(nb_stoc_df['net_gen'], color='k', linewidth=3, label='net generation')\n",
    "plt.legend()\n",
    "plt.xlabel('Time (h)')\n",
    "plt.ylabel('Power (MWh)')\n",
    "plt.title('No Battery, Stochastic Forecast Optimization')"
   ]
  },
  {
   "cell_type": "code",
   "execution_count": null,
   "metadata": {},
   "outputs": [],
   "source": [
    "p_sim, w_sim, l_sim, sim_perm = get_sim_data()"
   ]
  },
  {
   "cell_type": "code",
   "execution_count": null,
   "metadata": {},
   "outputs": [],
   "source": [
    "p_sim.set_index('hour', inplace=True)\n",
    "w_sim.set_index('hour', inplace=True)\n",
    "l_sim.set_index('hour', inplace=True)"
   ]
  },
  {
   "cell_type": "code",
   "execution_count": null,
   "metadata": {},
   "outputs": [],
   "source": [
    "styles = ['k-','r-.','y-.', 'b-.', 'c-.', 'm-.', 'g-.',\\\n",
    "          'r--','y--', 'b--', 'c--', 'm--', 'g--']\n",
    "styles = styles[:settings.SIMS+1]\n",
    "linewidths = [3] + [1]*settings.SIMS\n",
    "\n",
    "fig, (ax1, ax2, ax3) = plt.subplots(3, sharex=True, figsize=(18, 16), dpi= 80, facecolor='w', edgecolor='k')\n",
    "fig.suptitle('Simulation Data')\n",
    "\n",
    "for col, style, lw in zip(p_sim.columns, styles, linewidths):\n",
    "    p_sim[col].plot(style=style, lw=lw, ax=ax1)\n",
    "ax1.set(ylabel='Solar Power (MWh)')\n",
    "ax1.yaxis.grid(color='gray', linestyle='solid')\n",
    "\n",
    "for col, style, lw in zip(w_sim.columns, styles, linewidths):\n",
    "    w_sim[col].plot(style=style, lw=lw, ax=ax2)\n",
    "ax2.set(ylabel='Wind Power (MWh)')\n",
    "ax2.yaxis.grid(color='gray', linestyle='solid')\n",
    "\n",
    "for col, style, lw in zip(l_sim.columns, styles, linewidths):\n",
    "    l_sim[col].plot(style=style, lw=lw, ax=ax3)\n",
    "ax3.set(ylabel='Electricity Price ($)')\n",
    "ax3.yaxis.grid(color='gray', linestyle='solid')\n",
    "\n",
    "ax1.legend(p_sim.columns[1:].insert(0,'actual forecast'),\\\n",
    "           bbox_to_anchor=(1.04,1), loc='upper left')\n",
    "plt.subplots_adjust(right=0.7)\n",
    "fig.show()\n"
   ]
  },
  {
   "cell_type": "markdown",
   "metadata": {},
   "source": [
    "### Cost Analysis\n",
    "- Battery cost = \\$398/kWh  \n",
    "- System capacity = 352 MWh  \n",
    "- Revenue difference ~ $100k/wk  "
   ]
  },
  {
   "cell_type": "code",
   "execution_count": null,
   "metadata": {},
   "outputs": [],
   "source": [
    "batt_cap = 352*1000  # kwh\n",
    "batt_cost = batt_cap * 200\n",
    "batt_cost"
   ]
  },
  {
   "cell_type": "code",
   "execution_count": null,
   "metadata": {},
   "outputs": [],
   "source": [
    "payback_weeks = batt_cost / 10e4\n",
    "payback_weeks"
   ]
  },
  {
   "cell_type": "code",
   "execution_count": null,
   "metadata": {},
   "outputs": [],
   "source": [
    "payback_yrs = payback_weeks/52\n",
    "payback_yrs"
   ]
  },
  {
   "cell_type": "code",
   "execution_count": null,
   "metadata": {},
   "outputs": [],
   "source": [
    "2600/6"
   ]
  },
  {
   "cell_type": "code",
   "execution_count": null,
   "metadata": {},
   "outputs": [],
   "source": []
  }
 ],
 "metadata": {
  "kernelspec": {
   "display_name": "Python 3",
   "language": "python",
   "name": "python3"
  },
  "language_info": {
   "codemirror_mode": {
    "name": "ipython",
    "version": 3
   },
   "file_extension": ".py",
   "mimetype": "text/x-python",
   "name": "python",
   "nbconvert_exporter": "python",
   "pygments_lexer": "ipython3",
   "version": "3.6.5"
  }
 },
 "nbformat": 4,
 "nbformat_minor": 2
}
